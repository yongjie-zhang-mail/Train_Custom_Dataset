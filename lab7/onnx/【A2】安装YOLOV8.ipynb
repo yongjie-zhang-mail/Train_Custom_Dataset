{
 "cells": [
  {
   "cell_type": "markdown",
   "id": "35587e4f",
   "metadata": {},
   "source": [
    "# 安装YOLOV8\n",
    "\n",
    "同济子豪兄 2023-4-15\n",
    "\n",
    "安装YOLOV8环境和所需的第三方工具包"
   ]
  },
  {
   "cell_type": "markdown",
   "id": "4e179cab",
   "metadata": {},
   "source": [
    "## 安装YOLOV8"
   ]
  },
  {
   "cell_type": "code",
   "execution_count": 2,
   "id": "c3e4bd4e",
   "metadata": {},
   "outputs": [],
   "source": [
    "!pip install ultralytics --upgrade -i https://pypi.tuna.tsinghua.edu.cn/simple"
   ]
  },
  {
   "cell_type": "markdown",
   "id": "3880c30c",
   "metadata": {},
   "source": [
    "## 验证安装成功"
   ]
  },
  {
   "cell_type": "code",
   "execution_count": 3,
   "id": "43f3cefc",
   "metadata": {},
   "outputs": [
    {
     "name": "stderr",
     "output_type": "stream",
     "text": [
      "Ultralytics YOLOv8.0.100 🚀 Python-3.7.2 torch-1.13.1 CPU\n",
      "Setup complete ✅ (16 CPUs, 16.0 GB RAM, 881.1/931.5 GB disk)\n"
     ]
    }
   ],
   "source": [
    "import ultralytics\n",
    "ultralytics.checks()"
   ]
  },
  {
   "cell_type": "markdown",
   "id": "8f7219b5",
   "metadata": {},
   "source": [
    "## 安装其它第三方工具包"
   ]
  },
  {
   "cell_type": "code",
   "execution_count": 8,
   "id": "7ffb4c32",
   "metadata": {},
   "outputs": [],
   "source": [
    "!pip install numpy opencv-python pillow pandas matplotlib seaborn tqdm onnx -i https://pypi.tuna.tsinghua.edu.cn/simple"
   ]
  },
  {
   "cell_type": "markdown",
   "id": "1f8868ae",
   "metadata": {},
   "source": [
    "## 安装CPU版本的ONNX Runtime（二选一运行）"
   ]
  },
  {
   "cell_type": "code",
   "execution_count": 1,
   "id": "711d42dc",
   "metadata": {},
   "outputs": [
    {
     "name": "stdout",
     "output_type": "stream",
     "text": [
      "Looking in indexes: https://pypi.tuna.tsinghua.edu.cn/simple\n",
      "Collecting onnxruntime\n",
      "  Downloading https://pypi.tuna.tsinghua.edu.cn/packages/6a/fb/99bc0e75f3d23eab0dda640acaf23d0a3a68c3949a56ac5c25698eab4958/onnxruntime-1.15.1-cp39-cp39-win_amd64.whl (6.7 MB)\n",
      "     ---------------------------------------- 6.7/6.7 MB 6.6 MB/s eta 0:00:00\n",
      "Requirement already satisfied: packaging in c:\\users\\zhangyj21\\.conda\\envs\\yongjie\\lib\\site-packages (from onnxruntime) (23.0)\n",
      "Collecting coloredlogs\n",
      "  Downloading https://pypi.tuna.tsinghua.edu.cn/packages/a7/06/3d6badcf13db419e25b07041d9c7b4a2c331d3f4e7134445ec5df57714cd/coloredlogs-15.0.1-py2.py3-none-any.whl (46 kB)\n",
      "     ---------------------------------------- 46.0/46.0 kB 2.2 MB/s eta 0:00:00\n",
      "Collecting flatbuffers\n",
      "  Downloading https://pypi.tuna.tsinghua.edu.cn/packages/6f/12/d5c79ee252793ffe845d58a913197bfa02ae9a0b5c9bc3dc4b58d477b9e7/flatbuffers-23.5.26-py2.py3-none-any.whl (26 kB)\n",
      "Requirement already satisfied: numpy>=1.21.6 in c:\\users\\zhangyj21\\.conda\\envs\\yongjie\\lib\\site-packages (from onnxruntime) (1.23.4)\n",
      "Requirement already satisfied: protobuf in c:\\users\\zhangyj21\\.conda\\envs\\yongjie\\lib\\site-packages (from onnxruntime) (4.23.0)\n",
      "Collecting sympy\n",
      "  Downloading https://pypi.tuna.tsinghua.edu.cn/packages/d2/05/e6600db80270777c4a64238a98d442f0fd07cc8915be2a1c16da7f2b9e74/sympy-1.12-py3-none-any.whl (5.7 MB)\n",
      "     ---------------------------------------- 5.7/5.7 MB 13.1 MB/s eta 0:00:00\n",
      "Collecting humanfriendly>=9.1\n",
      "  Downloading https://pypi.tuna.tsinghua.edu.cn/packages/f0/0f/310fb31e39e2d734ccaa2c0fb981ee41f7bd5056ce9bc29b2248bd569169/humanfriendly-10.0-py2.py3-none-any.whl (86 kB)\n",
      "     ---------------------------------------- 86.8/86.8 kB 5.1 MB/s eta 0:00:00\n",
      "Collecting mpmath>=0.19\n",
      "  Downloading https://pypi.tuna.tsinghua.edu.cn/packages/43/e3/7d92a15f894aa0c9c4b49b8ee9ac9850d6e63b03c9c32c0367a13ae62209/mpmath-1.3.0-py3-none-any.whl (536 kB)\n",
      "     -------------------------------------- 536.2/536.2 kB 8.3 MB/s eta 0:00:00\n",
      "Collecting pyreadline3\n",
      "  Downloading https://pypi.tuna.tsinghua.edu.cn/packages/56/fc/a3c13ded7b3057680c8ae95a9b6cc83e63657c38e0005c400a5d018a33a7/pyreadline3-3.4.1-py3-none-any.whl (95 kB)\n",
      "     ---------------------------------------- 95.2/95.2 kB 2.7 MB/s eta 0:00:00\n",
      "Installing collected packages: pyreadline3, mpmath, flatbuffers, sympy, humanfriendly, coloredlogs, onnxruntime\n",
      "Successfully installed coloredlogs-15.0.1 flatbuffers-23.5.26 humanfriendly-10.0 mpmath-1.3.0 onnxruntime-1.15.1 pyreadline3-3.4.1 sympy-1.12\n"
     ]
    }
   ],
   "source": [
    "# CPU\n",
    "!pip install onnxruntime -i https://pypi.tuna.tsinghua.edu.cn/simple"
   ]
  },
  {
   "cell_type": "markdown",
   "id": "cf729e85",
   "metadata": {},
   "source": [
    "## 安装GPU版本的ONNX Runtime（二选一运行）"
   ]
  },
  {
   "cell_type": "code",
   "execution_count": 4,
   "id": "5eedaaab",
   "metadata": {},
   "outputs": [],
   "source": [
    "# # GPU\n",
    "# !pip install onnxruntime-gpu -i https://pypi.tuna.tsinghua.edu.cn/simple"
   ]
  },
  {
   "cell_type": "code",
   "execution_count": 2,
   "id": "f79f95af",
   "metadata": {},
   "outputs": [
    {
     "data": {
      "text/plain": [
       "'CPU'"
      ]
     },
     "execution_count": 2,
     "metadata": {},
     "output_type": "execute_result"
    }
   ],
   "source": [
    "# 验证安装配置成功\n",
    "import onnxruntime\n",
    "onnxruntime.get_device()"
   ]
  },
  {
   "cell_type": "code",
   "execution_count": null,
   "id": "6e94ebe4",
   "metadata": {},
   "outputs": [],
   "source": []
  }
 ],
 "metadata": {
  "kernelspec": {
   "display_name": "Python 3 (ipykernel)",
   "language": "python",
   "name": "python3"
  },
  "language_info": {
   "codemirror_mode": {
    "name": "ipython",
    "version": 3
   },
   "file_extension": ".py",
   "mimetype": "text/x-python",
   "name": "python",
   "nbconvert_exporter": "python",
   "pygments_lexer": "ipython3",
   "version": "3.9.15"
  }
 },
 "nbformat": 4,
 "nbformat_minor": 5
}
