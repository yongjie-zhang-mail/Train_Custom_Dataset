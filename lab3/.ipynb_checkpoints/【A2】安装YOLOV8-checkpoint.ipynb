{
 "cells": [
  {
   "cell_type": "markdown",
   "id": "5d31775d-9858-422f-b3e7-b333df407c8b",
   "metadata": {},
   "source": [
    "# 安装YOLOV8\n",
    "\n",
    "同济子豪兄 2023-4-15\n",
    "\n",
    "安装YOLOV8环境和所需的第三方工具包"
   ]
  },
  {
   "cell_type": "markdown",
   "id": "8ba9d553-9064-492d-811b-812ff409d8e1",
   "metadata": {},
   "source": [
    "## 安装YOLOV8"
   ]
  },
  {
   "cell_type": "code",
   "execution_count": 1,
   "id": "e3afb786-1343-46fd-82c9-ff2d716c79e0",
   "metadata": {},
   "outputs": [
    {
     "name": "stdout",
     "output_type": "stream",
     "text": [
      "Looking in indexes: https://pypi.tuna.tsinghua.edu.cn/simple\n",
      "Collecting ultralytics\n",
      "  Downloading https://pypi.tuna.tsinghua.edu.cn/packages/1b/c8/026fbad55e46abb3e1100161c0497325916d086c630543c857971e4fabc3/ultralytics-8.0.98-py3-none-any.whl (584 kB)\n",
      "     -------------------------------------- 584.2/584.2 kB 9.1 MB/s eta 0:00:00\n",
      "Requirement already satisfied: Pillow>=7.1.2 in c:\\users\\zhangyj21\\.conda\\envs\\yongjie\\lib\\site-packages (from ultralytics) (9.3.0)\n",
      "Collecting tqdm>=4.64.0\n",
      "  Downloading https://pypi.tuna.tsinghua.edu.cn/packages/e6/02/a2cff6306177ae6bc73bc0665065de51dfb3b9db7373e122e2735faf0d97/tqdm-4.65.0-py3-none-any.whl (77 kB)\n",
      "     ---------------------------------------- 77.1/77.1 kB 2.1 MB/s eta 0:00:00\n",
      "Requirement already satisfied: requests>=2.23.0 in c:\\users\\zhangyj21\\appdata\\roaming\\python\\python39\\site-packages (from ultralytics) (2.25.1)\n",
      "Collecting seaborn>=0.11.0\n",
      "  Downloading https://pypi.tuna.tsinghua.edu.cn/packages/8f/2e/17bbb83fbf102687bb2aa3d808add39da820a7698159302a1a69bb82e01c/seaborn-0.12.2-py3-none-any.whl (293 kB)\n",
      "     -------------------------------------- 293.3/293.3 kB 8.8 MB/s eta 0:00:00\n",
      "Requirement already satisfied: torch>=1.7.0 in c:\\users\\zhangyj21\\.conda\\envs\\yongjie\\lib\\site-packages (from ultralytics) (1.13.1)\n",
      "Collecting sentry-sdk\n",
      "  Downloading https://pypi.tuna.tsinghua.edu.cn/packages/e5/92/4cd320ded8ef886321949493be9200712d9724f83354e32a51752e95c469/sentry_sdk-1.22.2-py2.py3-none-any.whl (203 kB)\n",
      "     -------------------------------------- 203.3/203.3 kB 6.2 MB/s eta 0:00:00\n",
      "Requirement already satisfied: torchvision>=0.8.1 in c:\\users\\zhangyj21\\.conda\\envs\\yongjie\\lib\\site-packages (from ultralytics) (0.14.1)\n",
      "Requirement already satisfied: PyYAML>=5.3.1 in c:\\users\\zhangyj21\\.conda\\envs\\yongjie\\lib\\site-packages (from ultralytics) (6.0)\n",
      "Requirement already satisfied: matplotlib>=3.2.2 in c:\\users\\zhangyj21\\appdata\\roaming\\python\\python39\\site-packages (from ultralytics) (3.5.1)\n",
      "Requirement already satisfied: psutil in c:\\users\\zhangyj21\\.conda\\envs\\yongjie\\lib\\site-packages (from ultralytics) (5.9.4)\n",
      "Collecting scipy>=1.4.1\n",
      "  Downloading https://pypi.tuna.tsinghua.edu.cn/packages/35/20/0ec6246bbb43d18650c9a7cad6602e1a84fd8f9564a9b84cc5faf1e037d0/scipy-1.10.1-cp39-cp39-win_amd64.whl (42.5 MB)\n",
      "     --------------------------------------- 42.5/42.5 MB 12.1 MB/s eta 0:00:00\n",
      "Collecting thop>=0.1.1\n",
      "  Downloading https://pypi.tuna.tsinghua.edu.cn/packages/bb/0f/72beeab4ff5221dc47127c80f8834b4bcd0cb36f6ba91c0b1d04a1233403/thop-0.1.1.post2209072238-py3-none-any.whl (15 kB)\n",
      "Requirement already satisfied: pandas>=1.1.4 in c:\\users\\zhangyj21\\appdata\\roaming\\python\\python39\\site-packages (from ultralytics) (1.2.4)\n",
      "Collecting opencv-python>=4.6.0\n",
      "  Downloading https://pypi.tuna.tsinghua.edu.cn/packages/36/98/fab8d982e2e2b57bdebcad64c7e5b5a14ac91c657cac509b9cf3fbea49d2/opencv_python-4.7.0.72-cp37-abi3-win_amd64.whl (38.2 MB)\n",
      "     --------------------------------------- 38.2/38.2 MB 13.1 MB/s eta 0:00:00\n",
      "Requirement already satisfied: fonttools>=4.22.0 in c:\\users\\zhangyj21\\.conda\\envs\\yongjie\\lib\\site-packages (from matplotlib>=3.2.2->ultralytics) (4.38.0)\n",
      "Requirement already satisfied: kiwisolver>=1.0.1 in c:\\users\\zhangyj21\\.conda\\envs\\yongjie\\lib\\site-packages (from matplotlib>=3.2.2->ultralytics) (1.4.4)\n",
      "Requirement already satisfied: numpy>=1.17 in c:\\users\\zhangyj21\\.conda\\envs\\yongjie\\lib\\site-packages (from matplotlib>=3.2.2->ultralytics) (1.23.4)\n",
      "Requirement already satisfied: packaging>=20.0 in c:\\users\\zhangyj21\\.conda\\envs\\yongjie\\lib\\site-packages (from matplotlib>=3.2.2->ultralytics) (22.0)\n",
      "Requirement already satisfied: python-dateutil>=2.7 in c:\\users\\zhangyj21\\.conda\\envs\\yongjie\\lib\\site-packages (from matplotlib>=3.2.2->ultralytics) (2.8.2)\n",
      "Requirement already satisfied: cycler>=0.10 in c:\\users\\zhangyj21\\.conda\\envs\\yongjie\\lib\\site-packages (from matplotlib>=3.2.2->ultralytics) (0.11.0)\n",
      "Requirement already satisfied: pyparsing>=2.2.1 in c:\\users\\zhangyj21\\.conda\\envs\\yongjie\\lib\\site-packages (from matplotlib>=3.2.2->ultralytics) (3.0.9)\n",
      "Requirement already satisfied: pytz>=2017.3 in c:\\users\\zhangyj21\\.conda\\envs\\yongjie\\lib\\site-packages (from pandas>=1.1.4->ultralytics) (2022.7)\n",
      "Requirement already satisfied: certifi>=2017.4.17 in c:\\users\\zhangyj21\\.conda\\envs\\yongjie\\lib\\site-packages (from requests>=2.23.0->ultralytics) (2022.12.7)\n",
      "Requirement already satisfied: chardet<5,>=3.0.2 in c:\\users\\zhangyj21\\.conda\\envs\\yongjie\\lib\\site-packages (from requests>=2.23.0->ultralytics) (4.0.0)\n",
      "Requirement already satisfied: idna<3,>=2.5 in c:\\users\\zhangyj21\\appdata\\roaming\\python\\python39\\site-packages (from requests>=2.23.0->ultralytics) (2.10)\n",
      "Requirement already satisfied: urllib3<1.27,>=1.21.1 in c:\\users\\zhangyj21\\.conda\\envs\\yongjie\\lib\\site-packages (from requests>=2.23.0->ultralytics) (1.26.13)\n",
      "Requirement already satisfied: typing_extensions in c:\\users\\zhangyj21\\.conda\\envs\\yongjie\\lib\\site-packages (from torch>=1.7.0->ultralytics) (4.4.0)\n",
      "Requirement already satisfied: colorama in c:\\users\\zhangyj21\\.conda\\envs\\yongjie\\lib\\site-packages (from tqdm>=4.64.0->ultralytics) (0.4.6)\n",
      "Requirement already satisfied: six>=1.5 in c:\\users\\zhangyj21\\.conda\\envs\\yongjie\\lib\\site-packages (from python-dateutil>=2.7->matplotlib>=3.2.2->ultralytics) (1.16.0)\n",
      "Installing collected packages: tqdm, sentry-sdk, scipy, opencv-python, thop, seaborn, ultralytics\n",
      "Successfully installed opencv-python-4.7.0.72 scipy-1.10.1 seaborn-0.12.2 sentry-sdk-1.22.2 thop-0.1.1.post2209072238 tqdm-4.65.0 ultralytics-8.0.98\n"
     ]
    }
   ],
   "source": [
    "!pip install ultralytics --upgrade -i https://pypi.tuna.tsinghua.edu.cn/simple"
   ]
  },
  {
   "cell_type": "markdown",
   "id": "9823667e-5c29-4e9f-aae3-8f0dea3f5105",
   "metadata": {},
   "source": [
    "## 验证安装成功"
   ]
  },
  {
   "cell_type": "code",
   "execution_count": 2,
   "id": "1de9f7c1-d2bb-4f54-9eb3-2602b806085a",
   "metadata": {},
   "outputs": [
    {
     "name": "stderr",
     "output_type": "stream",
     "text": [
      "Ultralytics YOLOv8.0.98  Python-3.9.15 torch-1.13.1 CPU\n",
      "Setup complete  (20 CPUs, 31.7 GB RAM, 392.6/953.6 GB disk)\n"
     ]
    }
   ],
   "source": [
    "import ultralytics\n",
    "ultralytics.checks()"
   ]
  },
  {
   "cell_type": "markdown",
   "id": "78ce4d27-bc9f-4f5e-b3dd-9844733e4549",
   "metadata": {},
   "source": [
    "## 安装其它第三方工具包"
   ]
  },
  {
   "cell_type": "code",
   "execution_count": 3,
   "id": "cf430bb8-4404-40c6-a357-b0bb07f1d7ab",
   "metadata": {},
   "outputs": [
    {
     "name": "stdout",
     "output_type": "stream",
     "text": [
      "Looking in indexes: https://pypi.tuna.tsinghua.edu.cn/simple\n",
      "Requirement already satisfied: numpy in c:\\users\\zhangyj21\\.conda\\envs\\yongjie\\lib\\site-packages (1.23.4)\n",
      "Requirement already satisfied: opencv-python in c:\\users\\zhangyj21\\.conda\\envs\\yongjie\\lib\\site-packages (4.7.0.72)\n",
      "Requirement already satisfied: pillow in c:\\users\\zhangyj21\\.conda\\envs\\yongjie\\lib\\site-packages (9.3.0)\n",
      "Requirement already satisfied: pandas in c:\\users\\zhangyj21\\appdata\\roaming\\python\\python39\\site-packages (1.2.4)\n",
      "Requirement already satisfied: matplotlib in c:\\users\\zhangyj21\\appdata\\roaming\\python\\python39\\site-packages (3.5.1)\n",
      "Requirement already satisfied: seaborn in c:\\users\\zhangyj21\\.conda\\envs\\yongjie\\lib\\site-packages (0.12.2)\n",
      "Requirement already satisfied: tqdm in c:\\users\\zhangyj21\\.conda\\envs\\yongjie\\lib\\site-packages (4.65.0)\n",
      "Collecting wandb\n",
      "  Downloading https://pypi.tuna.tsinghua.edu.cn/packages/ae/92/e2f8dcf07f9c2a165a46d78818f48d4083d33483a54f688ed15e3a881d2b/wandb-0.15.2-py3-none-any.whl (2.0 MB)\n",
      "     ---------------------------------------- 2.0/2.0 MB 11.8 MB/s eta 0:00:00\n",
      "Collecting seedir\n",
      "  Downloading https://pypi.tuna.tsinghua.edu.cn/packages/08/19/c35bdf6573f4eafa48188b4c9b4f55548aea8f30303311b1179912374fa1/seedir-0.4.2-py3-none-any.whl (111 kB)\n",
      "     -------------------------------------- 111.2/111.2 kB 3.2 MB/s eta 0:00:00\n",
      "Collecting emoji\n",
      "  Downloading https://pypi.tuna.tsinghua.edu.cn/packages/56/3c/26aefc6bbfa015e1dabbabd6881103e236c7ae67fabb3265fef0c85e89b5/emoji-2.2.0.tar.gz (240 kB)\n",
      "     -------------------------------------- 240.9/240.9 kB 7.2 MB/s eta 0:00:00\n",
      "  Preparing metadata (setup.py): started\n",
      "  Preparing metadata (setup.py): finished with status 'done'\n",
      "Requirement already satisfied: python-dateutil>=2.7.3 in c:\\users\\zhangyj21\\.conda\\envs\\yongjie\\lib\\site-packages (from pandas) (2.8.2)\n",
      "Requirement already satisfied: pytz>=2017.3 in c:\\users\\zhangyj21\\.conda\\envs\\yongjie\\lib\\site-packages (from pandas) (2022.7)\n",
      "Requirement already satisfied: cycler>=0.10 in c:\\users\\zhangyj21\\.conda\\envs\\yongjie\\lib\\site-packages (from matplotlib) (0.11.0)\n",
      "Requirement already satisfied: kiwisolver>=1.0.1 in c:\\users\\zhangyj21\\.conda\\envs\\yongjie\\lib\\site-packages (from matplotlib) (1.4.4)\n",
      "Requirement already satisfied: packaging>=20.0 in c:\\users\\zhangyj21\\.conda\\envs\\yongjie\\lib\\site-packages (from matplotlib) (22.0)\n",
      "Requirement already satisfied: pyparsing>=2.2.1 in c:\\users\\zhangyj21\\.conda\\envs\\yongjie\\lib\\site-packages (from matplotlib) (3.0.9)\n",
      "Requirement already satisfied: fonttools>=4.22.0 in c:\\users\\zhangyj21\\.conda\\envs\\yongjie\\lib\\site-packages (from matplotlib) (4.38.0)\n",
      "Requirement already satisfied: colorama in c:\\users\\zhangyj21\\.conda\\envs\\yongjie\\lib\\site-packages (from tqdm) (0.4.6)\n",
      "Collecting appdirs>=1.4.3\n",
      "  Downloading https://pypi.tuna.tsinghua.edu.cn/packages/3b/00/2344469e2084fb287c2e0b57b72910309874c3245463acd6cf5e3db69324/appdirs-1.4.4-py2.py3-none-any.whl (9.6 kB)\n",
      "Requirement already satisfied: setuptools in c:\\users\\zhangyj21\\.conda\\envs\\yongjie\\lib\\site-packages (from wandb) (65.5.0)\n",
      "Requirement already satisfied: sentry-sdk>=1.0.0 in c:\\users\\zhangyj21\\.conda\\envs\\yongjie\\lib\\site-packages (from wandb) (1.22.2)\n",
      "Collecting setproctitle\n",
      "  Downloading https://pypi.tuna.tsinghua.edu.cn/packages/40/bc/fb3193adca261b25b6c01bb9faeebce4b3c24a96be3f1dc9a1ddd307142e/setproctitle-1.3.2-cp39-cp39-win_amd64.whl (11 kB)\n",
      "Collecting pathtools\n",
      "  Downloading https://pypi.tuna.tsinghua.edu.cn/packages/e7/7f/470d6fcdf23f9f3518f6b0b76be9df16dcc8630ad409947f8be2eb0ed13a/pathtools-0.1.2.tar.gz (11 kB)\n",
      "  Preparing metadata (setup.py): started\n",
      "  Preparing metadata (setup.py): finished with status 'done'\n",
      "Requirement already satisfied: typing-extensions in c:\\users\\zhangyj21\\.conda\\envs\\yongjie\\lib\\site-packages (from wandb) (4.4.0)\n",
      "Requirement already satisfied: PyYAML in c:\\users\\zhangyj21\\.conda\\envs\\yongjie\\lib\\site-packages (from wandb) (6.0)\n",
      "Collecting protobuf!=4.21.0,<5,>=3.19.0\n",
      "  Downloading https://pypi.tuna.tsinghua.edu.cn/packages/d3/3c/6bbbe3a5ccb68f117dc572d8b612efb77dc5824b87687ee52eb61abf965f/protobuf-4.23.0-cp39-cp39-win_amd64.whl (422 kB)\n",
      "     ------------------------------------- 422.5/422.5 kB 13.3 MB/s eta 0:00:00\n",
      "Requirement already satisfied: psutil>=5.0.0 in c:\\users\\zhangyj21\\.conda\\envs\\yongjie\\lib\\site-packages (from wandb) (5.9.4)\n",
      "Collecting docker-pycreds>=0.4.0\n",
      "  Downloading https://pypi.tuna.tsinghua.edu.cn/packages/f5/e8/f6bd1eee09314e7e6dee49cbe2c5e22314ccdb38db16c9fc72d2fa80d054/docker_pycreds-0.4.0-py2.py3-none-any.whl (9.0 kB)\n",
      "Collecting GitPython!=3.1.29,>=1.0.0\n",
      "  Downloading https://pypi.tuna.tsinghua.edu.cn/packages/9e/8a/d1e02cc111d65b0346f70abb83c51f8593e7134bf694a4a56d1a470caaf7/GitPython-3.1.31-py3-none-any.whl (184 kB)\n",
      "     ------------------------------------- 184.3/184.3 kB 11.6 MB/s eta 0:00:00\n",
      "Collecting Click!=8.0.0,>=7.0\n",
      "  Downloading https://pypi.tuna.tsinghua.edu.cn/packages/c2/f1/df59e28c642d583f7dacffb1e0965d0e00b218e0186d7858ac5233dce840/click-8.1.3-py3-none-any.whl (96 kB)\n",
      "     ---------------------------------------- 96.6/96.6 kB 5.4 MB/s eta 0:00:00\n",
      "Requirement already satisfied: requests<3,>=2.0.0 in c:\\users\\zhangyj21\\appdata\\roaming\\python\\python39\\site-packages (from wandb) (2.25.1)\n",
      "Collecting natsort\n",
      "  Downloading https://pypi.tuna.tsinghua.edu.cn/packages/5f/e1/70d203ba3ae5476f25fb8a2015d6a7ff156a4ce4795e36955c144ea5a826/natsort-8.3.1-py3-none-any.whl (38 kB)\n",
      "Requirement already satisfied: six>=1.4.0 in c:\\users\\zhangyj21\\.conda\\envs\\yongjie\\lib\\site-packages (from docker-pycreds>=0.4.0->wandb) (1.16.0)\n",
      "Collecting gitdb<5,>=4.0.1\n",
      "  Downloading https://pypi.tuna.tsinghua.edu.cn/packages/21/a6/35f83efec687615c711fe0a09b67e58f6d1254db27b1013119de46f450bd/gitdb-4.0.10-py3-none-any.whl (62 kB)\n",
      "     ---------------------------------------- 62.7/62.7 kB 3.3 MB/s eta 0:00:00\n",
      "Requirement already satisfied: idna<3,>=2.5 in c:\\users\\zhangyj21\\appdata\\roaming\\python\\python39\\site-packages (from requests<3,>=2.0.0->wandb) (2.10)\n",
      "Requirement already satisfied: urllib3<1.27,>=1.21.1 in c:\\users\\zhangyj21\\.conda\\envs\\yongjie\\lib\\site-packages (from requests<3,>=2.0.0->wandb) (1.26.13)\n",
      "Requirement already satisfied: certifi>=2017.4.17 in c:\\users\\zhangyj21\\.conda\\envs\\yongjie\\lib\\site-packages (from requests<3,>=2.0.0->wandb) (2022.12.7)\n",
      "Requirement already satisfied: chardet<5,>=3.0.2 in c:\\users\\zhangyj21\\.conda\\envs\\yongjie\\lib\\site-packages (from requests<3,>=2.0.0->wandb) (4.0.0)\n",
      "Collecting smmap<6,>=3.0.1\n",
      "  Downloading https://pypi.tuna.tsinghua.edu.cn/packages/6d/01/7caa71608bc29952ae09b0be63a539e50d2484bc37747797a66a60679856/smmap-5.0.0-py3-none-any.whl (24 kB)\n",
      "Building wheels for collected packages: emoji, pathtools\n",
      "  Building wheel for emoji (setup.py): started\n",
      "  Building wheel for emoji (setup.py): finished with status 'done'\n",
      "  Created wheel for emoji: filename=emoji-2.2.0-py3-none-any.whl size=234912 sha256=44cb66d4ed408a93f202781f6b74de8a5d002530db01cea670958f619d15947b\n",
      "  Stored in directory: c:\\users\\zhangyj21\\appdata\\local\\pip\\cache\\wheels\\a8\\9a\\24\\7c4f8438a89a2e2b84484225e88899ae9c6b2b88d23203c32e\n",
      "  Building wheel for pathtools (setup.py): started\n",
      "  Building wheel for pathtools (setup.py): finished with status 'done'\n",
      "  Created wheel for pathtools: filename=pathtools-0.1.2-py3-none-any.whl size=8792 sha256=d58fde2023f8875f70ad6a70899159c4ccb13a61e16ab924f50e764a9fac9648\n",
      "  Stored in directory: c:\\users\\zhangyj21\\appdata\\local\\pip\\cache\\wheels\\ac\\67\\0c\\7406f4ff2becf8690a173e4ad09fad416c31dd5ddcb23b7f9d\n",
      "Successfully built emoji pathtools\n",
      "Installing collected packages: pathtools, appdirs, smmap, setproctitle, protobuf, natsort, emoji, docker-pycreds, Click, seedir, gitdb, GitPython, wandb\n",
      "Successfully installed Click-8.1.3 GitPython-3.1.31 appdirs-1.4.4 docker-pycreds-0.4.0 emoji-2.2.0 gitdb-4.0.10 natsort-8.3.1 pathtools-0.1.2 protobuf-4.23.0 seedir-0.4.2 setproctitle-1.3.2 smmap-5.0.0 wandb-0.15.2\n"
     ]
    }
   ],
   "source": [
    "!pip install numpy opencv-python pillow pandas matplotlib seaborn tqdm wandb seedir emoji -i https://pypi.tuna.tsinghua.edu.cn/simple"
   ]
  },
  {
   "cell_type": "code",
   "execution_count": null,
   "id": "6c610437-4506-46e1-b7dc-0b4b48b4a879",
   "metadata": {},
   "outputs": [],
   "source": []
  }
 ],
 "metadata": {
  "kernelspec": {
   "display_name": "Python 3 (ipykernel)",
   "language": "python",
   "name": "python3"
  },
  "language_info": {
   "codemirror_mode": {
    "name": "ipython",
    "version": 3
   },
   "file_extension": ".py",
   "mimetype": "text/x-python",
   "name": "python",
   "nbconvert_exporter": "python",
   "pygments_lexer": "ipython3",
   "version": "3.9.15"
  }
 },
 "nbformat": 4,
 "nbformat_minor": 5
}
