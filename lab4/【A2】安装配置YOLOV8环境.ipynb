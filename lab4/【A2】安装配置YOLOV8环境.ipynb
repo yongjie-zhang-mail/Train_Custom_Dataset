{
 "cells": [
  {
   "cell_type": "markdown",
   "id": "5d31775d-9858-422f-b3e7-b333df407c8b",
   "metadata": {},
   "source": [
    "# 安装YOLOV8\n",
    "\n",
    "同济子豪兄 2023-4-15\n",
    "\n",
    "安装YOLOV8环境和所需的第三方工具包"
   ]
  },
  {
   "cell_type": "markdown",
   "id": "8ba9d553-9064-492d-811b-812ff409d8e1",
   "metadata": {},
   "source": [
    "## 安装YOLOV8"
   ]
  },
  {
   "cell_type": "code",
   "execution_count": 1,
   "id": "e3afb786-1343-46fd-82c9-ff2d716c79e0",
   "metadata": {},
   "outputs": [
    {
     "name": "stdout",
     "output_type": "stream",
     "text": [
      "Looking in indexes: https://pypi.tuna.tsinghua.edu.cn/simple\n",
      "Requirement already satisfied: ultralytics in c:\\users\\yongj\\.conda\\envs\\yongjie\\lib\\site-packages (8.0.98)\n",
      "Collecting ultralytics\n",
      "  Downloading https://pypi.tuna.tsinghua.edu.cn/packages/e2/1d/fa6bc3c344cb75f1dd90d6ef188b186c6fd587672323968c89badd562aad/ultralytics-8.0.145-py3-none-any.whl (605 kB)\n",
      "     ---------------------------------------- 0.0/605.6 kB ? eta -:--:--\n",
      "     -------------- ----------------------- 225.3/605.6 kB 4.6 MB/s eta 0:00:01\n",
      "     ----------------------------- -------- 471.0/605.6 kB 4.9 MB/s eta 0:00:01\n",
      "     -------------------------------------  604.2/605.6 kB 4.8 MB/s eta 0:00:01\n",
      "     -------------------------------------- 605.6/605.6 kB 3.8 MB/s eta 0:00:00\n",
      "Requirement already satisfied: tqdm>=4.64.0 in c:\\users\\yongj\\.conda\\envs\\yongjie\\lib\\site-packages (from ultralytics) (4.65.0)\n",
      "Requirement already satisfied: pillow>=7.1.2 in c:\\users\\yongj\\.conda\\envs\\yongjie\\lib\\site-packages (from ultralytics) (9.5.0)\n",
      "Requirement already satisfied: requests>=2.23.0 in c:\\users\\yongj\\.conda\\envs\\yongjie\\lib\\site-packages (from ultralytics) (2.29.0)\n",
      "Collecting py-cpuinfo\n",
      "  Downloading https://pypi.tuna.tsinghua.edu.cn/packages/e0/a9/023730ba63db1e494a271cb018dcd361bd2c917ba7004c3e49d5daf795a2/py_cpuinfo-9.0.0-py3-none-any.whl (22 kB)\n",
      "Requirement already satisfied: opencv-python>=4.6.0 in c:\\users\\yongj\\.conda\\envs\\yongjie\\lib\\site-packages (from ultralytics) (4.7.0.72)\n",
      "Requirement already satisfied: matplotlib>=3.2.2 in c:\\users\\yongj\\.conda\\envs\\yongjie\\lib\\site-packages (from ultralytics) (3.5.1)\n",
      "Requirement already satisfied: scipy>=1.4.1 in c:\\users\\yongj\\.conda\\envs\\yongjie\\lib\\site-packages (from ultralytics) (1.10.1)\n",
      "Requirement already satisfied: psutil in c:\\users\\yongj\\.conda\\envs\\yongjie\\lib\\site-packages (from ultralytics) (5.9.5)\n",
      "Requirement already satisfied: pandas>=1.1.4 in c:\\users\\yongj\\.conda\\envs\\yongjie\\lib\\site-packages (from ultralytics) (1.2.4)\n",
      "Requirement already satisfied: seaborn>=0.11.0 in c:\\users\\yongj\\.conda\\envs\\yongjie\\lib\\site-packages (from ultralytics) (0.12.2)\n",
      "Requirement already satisfied: torch>=1.7.0 in c:\\users\\yongj\\.conda\\envs\\yongjie\\lib\\site-packages (from ultralytics) (2.0.1)\n",
      "Requirement already satisfied: torchvision>=0.8.1 in c:\\users\\yongj\\.conda\\envs\\yongjie\\lib\\site-packages (from ultralytics) (0.15.2)\n",
      "Requirement already satisfied: pyyaml>=5.3.1 in c:\\users\\yongj\\.conda\\envs\\yongjie\\lib\\site-packages (from ultralytics) (6.0)\n",
      "Requirement already satisfied: cycler>=0.10 in c:\\users\\yongj\\.conda\\envs\\yongjie\\lib\\site-packages (from matplotlib>=3.2.2->ultralytics) (0.11.0)\n",
      "Requirement already satisfied: kiwisolver>=1.0.1 in c:\\users\\yongj\\.conda\\envs\\yongjie\\lib\\site-packages (from matplotlib>=3.2.2->ultralytics) (1.4.4)\n",
      "Requirement already satisfied: pyparsing>=2.2.1 in c:\\users\\yongj\\.conda\\envs\\yongjie\\lib\\site-packages (from matplotlib>=3.2.2->ultralytics) (3.0.9)\n",
      "Requirement already satisfied: packaging>=20.0 in c:\\users\\yongj\\.conda\\envs\\yongjie\\lib\\site-packages (from matplotlib>=3.2.2->ultralytics) (23.1)\n",
      "Requirement already satisfied: numpy>=1.17 in c:\\users\\yongj\\.conda\\envs\\yongjie\\lib\\site-packages (from matplotlib>=3.2.2->ultralytics) (1.24.3)\n",
      "Requirement already satisfied: fonttools>=4.22.0 in c:\\users\\yongj\\.conda\\envs\\yongjie\\lib\\site-packages (from matplotlib>=3.2.2->ultralytics) (4.39.4)\n",
      "Requirement already satisfied: python-dateutil>=2.7 in c:\\users\\yongj\\.conda\\envs\\yongjie\\lib\\site-packages (from matplotlib>=3.2.2->ultralytics) (2.8.2)\n",
      "Requirement already satisfied: pytz>=2017.3 in c:\\users\\yongj\\.conda\\envs\\yongjie\\lib\\site-packages (from pandas>=1.1.4->ultralytics) (2023.3)\n",
      "Requirement already satisfied: urllib3<1.27,>=1.21.1 in c:\\users\\yongj\\.conda\\envs\\yongjie\\lib\\site-packages (from requests>=2.23.0->ultralytics) (1.26.15)\n",
      "Requirement already satisfied: charset-normalizer<4,>=2 in c:\\users\\yongj\\.conda\\envs\\yongjie\\lib\\site-packages (from requests>=2.23.0->ultralytics) (2.0.4)\n",
      "Requirement already satisfied: certifi>=2017.4.17 in c:\\users\\yongj\\.conda\\envs\\yongjie\\lib\\site-packages (from requests>=2.23.0->ultralytics) (2023.5.7)\n",
      "Requirement already satisfied: idna<4,>=2.5 in c:\\users\\yongj\\.conda\\envs\\yongjie\\lib\\site-packages (from requests>=2.23.0->ultralytics) (3.4)\n",
      "Requirement already satisfied: filelock in c:\\users\\yongj\\.conda\\envs\\yongjie\\lib\\site-packages (from torch>=1.7.0->ultralytics) (3.9.0)\n",
      "Requirement already satisfied: typing-extensions in c:\\users\\yongj\\.conda\\envs\\yongjie\\lib\\site-packages (from torch>=1.7.0->ultralytics) (4.5.0)\n",
      "Requirement already satisfied: sympy in c:\\users\\yongj\\.conda\\envs\\yongjie\\lib\\site-packages (from torch>=1.7.0->ultralytics) (1.11.1)\n",
      "Requirement already satisfied: networkx in c:\\users\\yongj\\.conda\\envs\\yongjie\\lib\\site-packages (from torch>=1.7.0->ultralytics) (2.8.4)\n",
      "Requirement already satisfied: jinja2 in c:\\users\\yongj\\.conda\\envs\\yongjie\\lib\\site-packages (from torch>=1.7.0->ultralytics) (3.1.2)\n",
      "Requirement already satisfied: colorama in c:\\users\\yongj\\.conda\\envs\\yongjie\\lib\\site-packages (from tqdm>=4.64.0->ultralytics) (0.4.6)\n",
      "Requirement already satisfied: six>=1.5 in c:\\users\\yongj\\.conda\\envs\\yongjie\\lib\\site-packages (from python-dateutil>=2.7->matplotlib>=3.2.2->ultralytics) (1.16.0)\n",
      "Requirement already satisfied: MarkupSafe>=2.0 in c:\\users\\yongj\\.conda\\envs\\yongjie\\lib\\site-packages (from jinja2->torch>=1.7.0->ultralytics) (2.1.2)\n",
      "Requirement already satisfied: mpmath>=0.19 in c:\\users\\yongj\\.conda\\envs\\yongjie\\lib\\site-packages (from sympy->torch>=1.7.0->ultralytics) (1.2.1)\n",
      "Installing collected packages: py-cpuinfo, ultralytics\n",
      "  Attempting uninstall: ultralytics\n",
      "    Found existing installation: ultralytics 8.0.98\n",
      "    Uninstalling ultralytics-8.0.98:\n",
      "      Successfully uninstalled ultralytics-8.0.98\n",
      "Successfully installed py-cpuinfo-9.0.0 ultralytics-8.0.145\n"
     ]
    }
   ],
   "source": [
    "!pip install ultralytics --upgrade -i https://pypi.tuna.tsinghua.edu.cn/simple"
   ]
  },
  {
   "cell_type": "markdown",
   "id": "9823667e-5c29-4e9f-aae3-8f0dea3f5105",
   "metadata": {},
   "source": [
    "## 验证安装成功"
   ]
  },
  {
   "cell_type": "code",
   "execution_count": 2,
   "id": "1de9f7c1-d2bb-4f54-9eb3-2602b806085a",
   "metadata": {},
   "outputs": [
    {
     "name": "stderr",
     "output_type": "stream",
     "text": [
      "Ultralytics YOLOv8.0.145  Python-3.9.16 torch-2.0.1 CUDA:0 (NVIDIA GeForce RTX 3070 Laptop GPU, 8192MiB)\n",
      "Setup complete  (20 CPUs, 31.8 GB RAM, 1528.1/1862.2 GB disk)\n"
     ]
    }
   ],
   "source": [
    "import ultralytics\n",
    "ultralytics.checks()"
   ]
  },
  {
   "cell_type": "markdown",
   "id": "78ce4d27-bc9f-4f5e-b3dd-9844733e4549",
   "metadata": {},
   "source": [
    "## 安装其它第三方工具包"
   ]
  },
  {
   "cell_type": "code",
   "execution_count": 3,
   "id": "cf430bb8-4404-40c6-a357-b0bb07f1d7ab",
   "metadata": {},
   "outputs": [
    {
     "name": "stdout",
     "output_type": "stream",
     "text": [
      "Looking in indexes: https://pypi.tuna.tsinghua.edu.cn/simple\n",
      "Requirement already satisfied: numpy in c:\\users\\yongj\\.conda\\envs\\yongjie\\lib\\site-packages (1.24.3)\n",
      "Requirement already satisfied: opencv-python in c:\\users\\yongj\\.conda\\envs\\yongjie\\lib\\site-packages (4.7.0.72)\n",
      "Requirement already satisfied: pillow in c:\\users\\yongj\\.conda\\envs\\yongjie\\lib\\site-packages (9.5.0)\n",
      "Requirement already satisfied: pandas in c:\\users\\yongj\\.conda\\envs\\yongjie\\lib\\site-packages (1.2.4)\n",
      "Requirement already satisfied: matplotlib in c:\\users\\yongj\\.conda\\envs\\yongjie\\lib\\site-packages (3.5.1)\n",
      "Requirement already satisfied: seaborn in c:\\users\\yongj\\.conda\\envs\\yongjie\\lib\\site-packages (0.12.2)\n",
      "Requirement already satisfied: tqdm in c:\\users\\yongj\\.conda\\envs\\yongjie\\lib\\site-packages (4.65.0)\n",
      "Collecting wandb\n",
      "  Downloading https://pypi.tuna.tsinghua.edu.cn/packages/e1/13/44dda105177622788af8f5da6f9358ecd6fa46e80caa3f4a01ba02cf63d3/wandb-0.15.7-py3-none-any.whl (2.1 MB)\n",
      "     ---------------------------------------- 0.0/2.1 MB ? eta -:--:--\n",
      "     --- ------------------------------------ 0.2/2.1 MB 5.8 MB/s eta 0:00:01\n",
      "     --------- ------------------------------ 0.5/2.1 MB 4.9 MB/s eta 0:00:01\n",
      "     -------------- ------------------------- 0.8/2.1 MB 6.1 MB/s eta 0:00:01\n",
      "     -------------------- ------------------- 1.0/2.1 MB 6.0 MB/s eta 0:00:01\n",
      "     ------------------------- -------------- 1.4/2.1 MB 6.1 MB/s eta 0:00:01\n",
      "     ------------------------------- -------- 1.6/2.1 MB 6.1 MB/s eta 0:00:01\n",
      "     ------------------------------------- -- 2.0/2.1 MB 6.3 MB/s eta 0:00:01\n",
      "     ---------------------------------------  2.1/2.1 MB 6.0 MB/s eta 0:00:01\n",
      "     ---------------------------------------- 2.1/2.1 MB 5.5 MB/s eta 0:00:00\n",
      "Requirement already satisfied: seedir in c:\\users\\yongj\\.conda\\envs\\yongjie\\lib\\site-packages (0.4.2)\n",
      "Requirement already satisfied: emoji in c:\\users\\yongj\\.conda\\envs\\yongjie\\lib\\site-packages (2.2.0)\n",
      "Requirement already satisfied: python-dateutil>=2.7.3 in c:\\users\\yongj\\.conda\\envs\\yongjie\\lib\\site-packages (from pandas) (2.8.2)\n",
      "Requirement already satisfied: pytz>=2017.3 in c:\\users\\yongj\\.conda\\envs\\yongjie\\lib\\site-packages (from pandas) (2023.3)\n",
      "Requirement already satisfied: packaging>=20.0 in c:\\users\\yongj\\.conda\\envs\\yongjie\\lib\\site-packages (from matplotlib) (23.1)\n",
      "Requirement already satisfied: cycler>=0.10 in c:\\users\\yongj\\.conda\\envs\\yongjie\\lib\\site-packages (from matplotlib) (0.11.0)\n",
      "Requirement already satisfied: fonttools>=4.22.0 in c:\\users\\yongj\\.conda\\envs\\yongjie\\lib\\site-packages (from matplotlib) (4.39.4)\n",
      "Requirement already satisfied: pyparsing>=2.2.1 in c:\\users\\yongj\\.conda\\envs\\yongjie\\lib\\site-packages (from matplotlib) (3.0.9)\n",
      "Requirement already satisfied: kiwisolver>=1.0.1 in c:\\users\\yongj\\.conda\\envs\\yongjie\\lib\\site-packages (from matplotlib) (1.4.4)\n",
      "Requirement already satisfied: colorama in c:\\users\\yongj\\.conda\\envs\\yongjie\\lib\\site-packages (from tqdm) (0.4.6)\n",
      "Requirement already satisfied: GitPython!=3.1.29,>=1.0.0 in c:\\users\\yongj\\.conda\\envs\\yongjie\\lib\\site-packages (from wandb) (3.1.31)\n",
      "Requirement already satisfied: protobuf!=4.21.0,<5,>=3.19.0 in c:\\users\\yongj\\.conda\\envs\\yongjie\\lib\\site-packages (from wandb) (4.23.0)\n",
      "Requirement already satisfied: psutil>=5.0.0 in c:\\users\\yongj\\.conda\\envs\\yongjie\\lib\\site-packages (from wandb) (5.9.5)\n",
      "Requirement already satisfied: setuptools in c:\\users\\yongj\\.conda\\envs\\yongjie\\lib\\site-packages (from wandb) (66.0.0)\n",
      "Requirement already satisfied: Click!=8.0.0,>=7.1 in c:\\users\\yongj\\.conda\\envs\\yongjie\\lib\\site-packages (from wandb) (8.1.3)\n",
      "Requirement already satisfied: appdirs>=1.4.3 in c:\\users\\yongj\\.conda\\envs\\yongjie\\lib\\site-packages (from wandb) (1.4.4)\n",
      "Requirement already satisfied: PyYAML in c:\\users\\yongj\\.conda\\envs\\yongjie\\lib\\site-packages (from wandb) (6.0)\n",
      "Requirement already satisfied: requests<3,>=2.0.0 in c:\\users\\yongj\\.conda\\envs\\yongjie\\lib\\site-packages (from wandb) (2.29.0)\n",
      "Requirement already satisfied: docker-pycreds>=0.4.0 in c:\\users\\yongj\\.conda\\envs\\yongjie\\lib\\site-packages (from wandb) (0.4.0)\n",
      "Requirement already satisfied: typing-extensions in c:\\users\\yongj\\.conda\\envs\\yongjie\\lib\\site-packages (from wandb) (4.5.0)\n",
      "Requirement already satisfied: setproctitle in c:\\users\\yongj\\.conda\\envs\\yongjie\\lib\\site-packages (from wandb) (1.3.2)\n",
      "Requirement already satisfied: sentry-sdk>=1.0.0 in c:\\users\\yongj\\.conda\\envs\\yongjie\\lib\\site-packages (from wandb) (1.22.2)\n",
      "Requirement already satisfied: pathtools in c:\\users\\yongj\\.conda\\envs\\yongjie\\lib\\site-packages (from wandb) (0.1.2)\n",
      "Requirement already satisfied: natsort in c:\\users\\yongj\\.conda\\envs\\yongjie\\lib\\site-packages (from seedir) (8.3.1)\n",
      "Requirement already satisfied: six>=1.4.0 in c:\\users\\yongj\\.conda\\envs\\yongjie\\lib\\site-packages (from docker-pycreds>=0.4.0->wandb) (1.16.0)\n",
      "Requirement already satisfied: gitdb<5,>=4.0.1 in c:\\users\\yongj\\.conda\\envs\\yongjie\\lib\\site-packages (from GitPython!=3.1.29,>=1.0.0->wandb) (4.0.10)\n",
      "Requirement already satisfied: idna<4,>=2.5 in c:\\users\\yongj\\.conda\\envs\\yongjie\\lib\\site-packages (from requests<3,>=2.0.0->wandb) (3.4)\n",
      "Requirement already satisfied: certifi>=2017.4.17 in c:\\users\\yongj\\.conda\\envs\\yongjie\\lib\\site-packages (from requests<3,>=2.0.0->wandb) (2023.5.7)\n",
      "Requirement already satisfied: urllib3<1.27,>=1.21.1 in c:\\users\\yongj\\.conda\\envs\\yongjie\\lib\\site-packages (from requests<3,>=2.0.0->wandb) (1.26.15)\n",
      "Requirement already satisfied: charset-normalizer<4,>=2 in c:\\users\\yongj\\.conda\\envs\\yongjie\\lib\\site-packages (from requests<3,>=2.0.0->wandb) (2.0.4)\n",
      "Requirement already satisfied: smmap<6,>=3.0.1 in c:\\users\\yongj\\.conda\\envs\\yongjie\\lib\\site-packages (from gitdb<5,>=4.0.1->GitPython!=3.1.29,>=1.0.0->wandb) (5.0.0)\n",
      "Installing collected packages: wandb\n",
      "Successfully installed wandb-0.15.7\n"
     ]
    }
   ],
   "source": [
    "!pip install numpy opencv-python pillow pandas matplotlib seaborn tqdm wandb seedir emoji -i https://pypi.tuna.tsinghua.edu.cn/simple\n"
   ]
  },
  {
   "cell_type": "markdown",
   "id": "2b89251f-b2e0-47db-a38f-a42b5fa13280",
   "metadata": {},
   "source": [
    "## 登录训练可视化工具wandb\n",
    "\n",
    "1.在命令行中运行wandb login\n",
    "\n",
    "2.按提示复制粘贴API Key至命令行中"
   ]
  },
  {
   "cell_type": "code",
   "execution_count": null,
   "id": "099dbd9c-db79-423e-b682-5e934a829425",
   "metadata": {},
   "outputs": [],
   "source": []
  }
 ],
 "metadata": {
  "kernelspec": {
   "display_name": "Python 3 (ipykernel)",
   "language": "python",
   "name": "python3"
  },
  "language_info": {
   "codemirror_mode": {
    "name": "ipython",
    "version": 3
   },
   "file_extension": ".py",
   "mimetype": "text/x-python",
   "name": "python",
   "nbconvert_exporter": "python",
   "pygments_lexer": "ipython3",
   "version": "3.9.16"
  }
 },
 "nbformat": 4,
 "nbformat_minor": 5
}
