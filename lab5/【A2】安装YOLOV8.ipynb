{
 "cells": [
  {
   "cell_type": "markdown",
   "id": "5d31775d-9858-422f-b3e7-b333df407c8b",
   "metadata": {},
   "source": [
    "# 安装YOLOV8\n",
    "\n",
    "同济子豪兄 2023-4-15\n",
    "\n",
    "安装YOLOV8环境和所需的第三方工具包"
   ]
  },
  {
   "cell_type": "markdown",
   "id": "8ba9d553-9064-492d-811b-812ff409d8e1",
   "metadata": {},
   "source": [
    "## 安装YOLOV8"
   ]
  },
  {
   "cell_type": "code",
   "execution_count": 1,
   "id": "e3afb786-1343-46fd-82c9-ff2d716c79e0",
   "metadata": {},
   "outputs": [
    {
     "name": "stdout",
     "output_type": "stream",
     "text": [
      "Looking in indexes: https://pypi.tuna.tsinghua.edu.cn/simple\n",
      "Requirement already satisfied: ultralytics in c:\\users\\zhangyj21\\.conda\\envs\\yongjie\\lib\\site-packages (8.0.143)\n",
      "Collecting ultralytics\n",
      "  Downloading https://pypi.tuna.tsinghua.edu.cn/packages/e2/1d/fa6bc3c344cb75f1dd90d6ef188b186c6fd587672323968c89badd562aad/ultralytics-8.0.145-py3-none-any.whl (605 kB)\n",
      "     -------------------------------------- 605.6/605.6 kB 6.3 MB/s eta 0:00:00\n",
      "Requirement already satisfied: pyyaml>=5.3.1 in c:\\users\\zhangyj21\\.conda\\envs\\yongjie\\lib\\site-packages (from ultralytics) (6.0)\n",
      "Requirement already satisfied: seaborn>=0.11.0 in c:\\users\\zhangyj21\\.conda\\envs\\yongjie\\lib\\site-packages (from ultralytics) (0.12.2)\n",
      "Requirement already satisfied: pandas>=1.1.4 in c:\\users\\zhangyj21\\appdata\\roaming\\python\\python39\\site-packages (from ultralytics) (1.2.4)\n",
      "Requirement already satisfied: tqdm>=4.64.0 in c:\\users\\zhangyj21\\.conda\\envs\\yongjie\\lib\\site-packages (from ultralytics) (4.65.0)\n",
      "Requirement already satisfied: torch>=1.7.0 in c:\\users\\zhangyj21\\.conda\\envs\\yongjie\\lib\\site-packages (from ultralytics) (1.13.1)\n",
      "Requirement already satisfied: opencv-python>=4.6.0 in c:\\users\\zhangyj21\\.conda\\envs\\yongjie\\lib\\site-packages (from ultralytics) (4.7.0.72)\n",
      "Requirement already satisfied: pillow>=7.1.2 in c:\\users\\zhangyj21\\.conda\\envs\\yongjie\\lib\\site-packages (from ultralytics) (9.3.0)\n",
      "Requirement already satisfied: psutil in c:\\users\\zhangyj21\\.conda\\envs\\yongjie\\lib\\site-packages (from ultralytics) (5.9.4)\n",
      "Requirement already satisfied: requests>=2.23.0 in c:\\users\\zhangyj21\\appdata\\roaming\\python\\python39\\site-packages (from ultralytics) (2.25.1)\n",
      "Requirement already satisfied: scipy>=1.4.1 in c:\\users\\zhangyj21\\.conda\\envs\\yongjie\\lib\\site-packages (from ultralytics) (1.10.1)\n",
      "Requirement already satisfied: py-cpuinfo in c:\\users\\zhangyj21\\.conda\\envs\\yongjie\\lib\\site-packages (from ultralytics) (9.0.0)\n",
      "Requirement already satisfied: matplotlib>=3.2.2 in c:\\users\\zhangyj21\\appdata\\roaming\\python\\python39\\site-packages (from ultralytics) (3.5.1)\n",
      "Requirement already satisfied: torchvision>=0.8.1 in c:\\users\\zhangyj21\\.conda\\envs\\yongjie\\lib\\site-packages (from ultralytics) (0.14.1)\n",
      "Requirement already satisfied: packaging>=20.0 in c:\\users\\zhangyj21\\.conda\\envs\\yongjie\\lib\\site-packages (from matplotlib>=3.2.2->ultralytics) (23.0)\n",
      "Requirement already satisfied: numpy>=1.17 in c:\\users\\zhangyj21\\.conda\\envs\\yongjie\\lib\\site-packages (from matplotlib>=3.2.2->ultralytics) (1.23.4)\n",
      "Requirement already satisfied: python-dateutil>=2.7 in c:\\users\\zhangyj21\\.conda\\envs\\yongjie\\lib\\site-packages (from matplotlib>=3.2.2->ultralytics) (2.8.2)\n",
      "Requirement already satisfied: pyparsing>=2.2.1 in c:\\users\\zhangyj21\\.conda\\envs\\yongjie\\lib\\site-packages (from matplotlib>=3.2.2->ultralytics) (3.0.9)\n",
      "Requirement already satisfied: kiwisolver>=1.0.1 in c:\\users\\zhangyj21\\.conda\\envs\\yongjie\\lib\\site-packages (from matplotlib>=3.2.2->ultralytics) (1.4.4)\n",
      "Requirement already satisfied: cycler>=0.10 in c:\\users\\zhangyj21\\.conda\\envs\\yongjie\\lib\\site-packages (from matplotlib>=3.2.2->ultralytics) (0.11.0)\n",
      "Requirement already satisfied: fonttools>=4.22.0 in c:\\users\\zhangyj21\\.conda\\envs\\yongjie\\lib\\site-packages (from matplotlib>=3.2.2->ultralytics) (4.38.0)\n",
      "Requirement already satisfied: pytz>=2017.3 in c:\\users\\zhangyj21\\.conda\\envs\\yongjie\\lib\\site-packages (from pandas>=1.1.4->ultralytics) (2022.7)\n",
      "Requirement already satisfied: chardet<5,>=3.0.2 in c:\\users\\zhangyj21\\.conda\\envs\\yongjie\\lib\\site-packages (from requests>=2.23.0->ultralytics) (4.0.0)\n",
      "Requirement already satisfied: urllib3<1.27,>=1.21.1 in c:\\users\\zhangyj21\\.conda\\envs\\yongjie\\lib\\site-packages (from requests>=2.23.0->ultralytics) (1.26.13)\n",
      "Requirement already satisfied: certifi>=2017.4.17 in c:\\users\\zhangyj21\\.conda\\envs\\yongjie\\lib\\site-packages (from requests>=2.23.0->ultralytics) (2023.7.22)\n",
      "Requirement already satisfied: idna<3,>=2.5 in c:\\users\\zhangyj21\\appdata\\roaming\\python\\python39\\site-packages (from requests>=2.23.0->ultralytics) (2.10)\n",
      "Requirement already satisfied: typing_extensions in c:\\users\\zhangyj21\\.conda\\envs\\yongjie\\lib\\site-packages (from torch>=1.7.0->ultralytics) (4.4.0)\n",
      "Requirement already satisfied: colorama in c:\\users\\zhangyj21\\.conda\\envs\\yongjie\\lib\\site-packages (from tqdm>=4.64.0->ultralytics) (0.4.6)\n",
      "Requirement already satisfied: six>=1.5 in c:\\users\\zhangyj21\\.conda\\envs\\yongjie\\lib\\site-packages (from python-dateutil>=2.7->matplotlib>=3.2.2->ultralytics) (1.16.0)\n",
      "Installing collected packages: ultralytics\n",
      "  Attempting uninstall: ultralytics\n",
      "    Found existing installation: ultralytics 8.0.143\n",
      "    Uninstalling ultralytics-8.0.143:\n",
      "      Successfully uninstalled ultralytics-8.0.143\n",
      "Successfully installed ultralytics-8.0.145\n"
     ]
    }
   ],
   "source": [
    "!pip install ultralytics --upgrade -i https://pypi.tuna.tsinghua.edu.cn/simple"
   ]
  },
  {
   "cell_type": "markdown",
   "id": "9823667e-5c29-4e9f-aae3-8f0dea3f5105",
   "metadata": {},
   "source": [
    "## 验证安装成功"
   ]
  },
  {
   "cell_type": "code",
   "execution_count": 2,
   "id": "1de9f7c1-d2bb-4f54-9eb3-2602b806085a",
   "metadata": {
    "scrolled": true
   },
   "outputs": [
    {
     "name": "stderr",
     "output_type": "stream",
     "text": [
      "Ultralytics YOLOv8.0.145  Python-3.9.15 torch-1.13.1 CPU (12th Gen Intel Core(TM) i7-12700H)\n",
      "Setup complete  (20 CPUs, 31.7 GB RAM, 407.8/953.6 GB disk)\n"
     ]
    }
   ],
   "source": [
    "import ultralytics\n",
    "ultralytics.checks()"
   ]
  },
  {
   "cell_type": "markdown",
   "id": "78ce4d27-bc9f-4f5e-b3dd-9844733e4549",
   "metadata": {},
   "source": [
    "## 安装其它第三方工具包"
   ]
  },
  {
   "cell_type": "code",
   "execution_count": 3,
   "id": "cf430bb8-4404-40c6-a357-b0bb07f1d7ab",
   "metadata": {},
   "outputs": [
    {
     "name": "stdout",
     "output_type": "stream",
     "text": [
      "Looking in indexes: https://pypi.tuna.tsinghua.edu.cn/simple\n",
      "Requirement already satisfied: numpy in c:\\users\\zhangyj21\\.conda\\envs\\yongjie\\lib\\site-packages (1.23.4)\n",
      "Requirement already satisfied: opencv-python in c:\\users\\zhangyj21\\.conda\\envs\\yongjie\\lib\\site-packages (4.7.0.72)\n",
      "Requirement already satisfied: pillow in c:\\users\\zhangyj21\\.conda\\envs\\yongjie\\lib\\site-packages (9.3.0)\n",
      "Requirement already satisfied: pandas in c:\\users\\zhangyj21\\appdata\\roaming\\python\\python39\\site-packages (1.2.4)\n",
      "Requirement already satisfied: matplotlib in c:\\users\\zhangyj21\\appdata\\roaming\\python\\python39\\site-packages (3.5.1)\n",
      "Requirement already satisfied: seaborn in c:\\users\\zhangyj21\\.conda\\envs\\yongjie\\lib\\site-packages (0.12.2)\n",
      "Requirement already satisfied: tqdm in c:\\users\\zhangyj21\\.conda\\envs\\yongjie\\lib\\site-packages (4.65.0)\n",
      "Requirement already satisfied: python-dateutil>=2.7.3 in c:\\users\\zhangyj21\\.conda\\envs\\yongjie\\lib\\site-packages (from pandas) (2.8.2)\n",
      "Requirement already satisfied: pytz>=2017.3 in c:\\users\\zhangyj21\\.conda\\envs\\yongjie\\lib\\site-packages (from pandas) (2022.7)\n",
      "Requirement already satisfied: packaging>=20.0 in c:\\users\\zhangyj21\\.conda\\envs\\yongjie\\lib\\site-packages (from matplotlib) (23.0)\n",
      "Requirement already satisfied: kiwisolver>=1.0.1 in c:\\users\\zhangyj21\\.conda\\envs\\yongjie\\lib\\site-packages (from matplotlib) (1.4.4)\n",
      "Requirement already satisfied: cycler>=0.10 in c:\\users\\zhangyj21\\.conda\\envs\\yongjie\\lib\\site-packages (from matplotlib) (0.11.0)\n",
      "Requirement already satisfied: fonttools>=4.22.0 in c:\\users\\zhangyj21\\.conda\\envs\\yongjie\\lib\\site-packages (from matplotlib) (4.38.0)\n",
      "Requirement already satisfied: pyparsing>=2.2.1 in c:\\users\\zhangyj21\\.conda\\envs\\yongjie\\lib\\site-packages (from matplotlib) (3.0.9)\n",
      "Requirement already satisfied: colorama in c:\\users\\zhangyj21\\.conda\\envs\\yongjie\\lib\\site-packages (from tqdm) (0.4.6)\n",
      "Requirement already satisfied: six>=1.5 in c:\\users\\zhangyj21\\.conda\\envs\\yongjie\\lib\\site-packages (from python-dateutil>=2.7.3->pandas) (1.16.0)\n"
     ]
    }
   ],
   "source": [
    "!pip install numpy opencv-python pillow pandas matplotlib seaborn tqdm -i https://pypi.tuna.tsinghua.edu.cn/simple"
   ]
  },
  {
   "cell_type": "code",
   "execution_count": null,
   "id": "6c610437-4506-46e1-b7dc-0b4b48b4a879",
   "metadata": {},
   "outputs": [],
   "source": []
  }
 ],
 "metadata": {
  "kernelspec": {
   "display_name": "Python 3 (ipykernel)",
   "language": "python",
   "name": "python3"
  },
  "language_info": {
   "codemirror_mode": {
    "name": "ipython",
    "version": 3
   },
   "file_extension": ".py",
   "mimetype": "text/x-python",
   "name": "python",
   "nbconvert_exporter": "python",
   "pygments_lexer": "ipython3",
   "version": "3.9.15"
  }
 },
 "nbformat": 4,
 "nbformat_minor": 5
}
