{
 "cells": [
  {
   "cell_type": "markdown",
   "metadata": {},
   "source": [
    "# YOLOV8关键点检测-预测源码解读-PosePredictor\n",
    "\n",
    "同济子豪兄、东哥Talk 2023-5-14"
   ]
  },
  {
   "cell_type": "markdown",
   "metadata": {},
   "source": [
    "## 导入工具包"
   ]
  },
  {
   "cell_type": "code",
   "execution_count": 5,
   "metadata": {
    "ExecuteTime": {
     "end_time": "2023-08-03T06:10:02.131877400Z",
     "start_time": "2023-08-03T06:10:02.100877800Z"
    }
   },
   "outputs": [],
   "source": [
    "import cv2\n",
    "import numpy as np"
   ]
  },
  {
   "cell_type": "markdown",
   "metadata": {},
   "source": [
    "## 构造预测参数字典overrides"
   ]
  },
  {
   "cell_type": "code",
   "execution_count": 6,
   "metadata": {
    "ExecuteTime": {
     "end_time": "2023-08-03T06:10:07.543334Z",
     "start_time": "2023-08-03T06:10:07.527114900Z"
    }
   },
   "outputs": [],
   "source": [
    "overrides = {\n",
    "    'task': 'pose',\n",
    "    'mode': 'predict',\n",
    "    'model': 'Triangle_215_yolov8l_pretrain.pt',\n",
    "    'data': 'Triangle_215.yaml',\n",
    "    'conf': 0.25,\n",
    "    'iou': 0.7,\n",
    "    'imgsz': 640,\n",
    "    'single_cls': False,\n",
    "    'verbose':True\n",
    "}"
   ]
  },
  {
   "cell_type": "markdown",
   "metadata": {},
   "source": [
    "## 生成PosePredictor"
   ]
  },
  {
   "cell_type": "code",
   "execution_count": 7,
   "metadata": {},
   "outputs": [],
   "source": [
    "from ultralytics.yolo.v8.pose import PosePredictor\n",
    "predictor = PosePredictor(overrides=overrides)"
   ]
  },
  {
   "cell_type": "markdown",
   "metadata": {},
   "source": [
    "## 输入图像路径推理预测"
   ]
  },
  {
   "cell_type": "code",
   "execution_count": 8,
   "metadata": {},
   "outputs": [],
   "source": [
    "img_path = 'triangle_4.jpg'"
   ]
  },
  {
   "cell_type": "code",
   "execution_count": 9,
   "metadata": {},
   "outputs": [
    {
     "name": "stderr",
     "output_type": "stream",
     "text": [
      "\n",
      "Ultralytics YOLOv8.0.145  Python-3.9.15 torch-1.13.1 CPU (12th Gen Intel Core(TM) i7-12700H)\n",
      "YOLOv8l-pose summary (fused): 287 layers, 44457390 parameters, 0 gradients\n",
      "image 1/1 C:\\source\\ai\\zihao\\Train_Custom_Dataset\\lab6\\triangle_4.jpg: 448x640 3 sjb_rects, 513.0ms\n",
      "Speed: 4.0ms preprocess, 513.0ms inference, 1.0ms postprocess per image at shape (1, 3, 448, 640)\n",
      "Results saved to \u001B[1mruns\\pose\\predict\u001B[0m\n"
     ]
    }
   ],
   "source": [
    "result = predictor(source=img_path)"
   ]
  },
  {
   "cell_type": "code",
   "execution_count": 10,
   "metadata": {},
   "outputs": [
    {
     "data": {
      "text/plain": [
       "ultralytics.engine.results.Results object with attributes:\n",
       "\n",
       "boxes: ultralytics.engine.results.Boxes object\n",
       "keypoints: ultralytics.engine.results.Keypoints object\n",
       "keys: ['boxes', 'keypoints']\n",
       "masks: None\n",
       "names: {0: 'sjb_rect'}\n",
       "orig_img: array([[[140, 140, 140],\n",
       "        [140, 140, 140],\n",
       "        [140, 140, 140],\n",
       "        ...,\n",
       "        [ 94,  94,  94],\n",
       "        [ 94,  94,  94],\n",
       "        [ 94,  94,  94]],\n",
       "\n",
       "       [[140, 140, 140],\n",
       "        [140, 140, 140],\n",
       "        [140, 140, 140],\n",
       "        ...,\n",
       "        [ 94,  94,  94],\n",
       "        [ 94,  94,  94],\n",
       "        [ 94,  94,  94]],\n",
       "\n",
       "       [[140, 140, 140],\n",
       "        [140, 140, 140],\n",
       "        [140, 140, 140],\n",
       "        ...,\n",
       "        [ 94,  94,  94],\n",
       "        [ 94,  94,  94],\n",
       "        [ 94,  94,  94]],\n",
       "\n",
       "       ...,\n",
       "\n",
       "       [[119, 119, 119],\n",
       "        [119, 119, 119],\n",
       "        [119, 119, 119],\n",
       "        ...,\n",
       "        [ 76,  76,  76],\n",
       "        [ 76,  76,  76],\n",
       "        [ 76,  76,  76]],\n",
       "\n",
       "       [[118, 118, 118],\n",
       "        [118, 118, 118],\n",
       "        [118, 118, 118],\n",
       "        ...,\n",
       "        [ 76,  76,  76],\n",
       "        [ 76,  76,  76],\n",
       "        [ 76,  76,  76]],\n",
       "\n",
       "       [[118, 118, 118],\n",
       "        [118, 118, 118],\n",
       "        [118, 118, 118],\n",
       "        ...,\n",
       "        [ 76,  76,  76],\n",
       "        [ 76,  76,  76],\n",
       "        [ 76,  76,  76]]], dtype=uint8)\n",
       "orig_shape: (3712, 5568)\n",
       "path: 'C:\\\\source\\\\ai\\\\zihao\\\\Train_Custom_Dataset\\\\lab6\\\\triangle_4.jpg'\n",
       "probs: None\n",
       "save_dir: 'runs\\\\pose\\\\predict'\n",
       "speed: {'preprocess': 3.987550735473633, 'inference': 512.9892826080322, 'postprocess': 1.0004043579101562}"
      ]
     },
     "execution_count": 10,
     "metadata": {},
     "output_type": "execute_result"
    }
   ],
   "source": [
    "result[0]"
   ]
  },
  {
   "cell_type": "markdown",
   "metadata": {},
   "source": [
    "## PosePredictor源码\n",
    "\n",
    "`site-packages/ultralytics/yolo/v8/pose/predict.py`\n",
    "\n",
    "关键点检测预测结果后处理函数`postprocess`\n",
    "\n",
    "`PosePredictor`继承`DetectionPredictor`\n",
    "\n",
    "`DetectionPredictor`源码：`site-packages/ultralytics/yolo/v8/detect/predict.py`\n",
    "\n",
    "`DetectionPredictor`继承`BasePredictor`"
   ]
  },
  {
   "cell_type": "markdown",
   "metadata": {},
   "source": [
    "## BasePredictor源码\n",
    "\n",
    "`site-packages/ultralytics/yolo/engine/predictor.py`\n",
    "\n",
    "pre_transform、preprocess、postprocess\n",
    "\n",
    "setup_model函数中，定义`AutoBackend`\n",
    "\n",
    "## AutoBackend源码\n",
    "\n",
    "`site-packages/ultralytics.nn.autobackend.AutoBackend`"
   ]
  },
  {
   "cell_type": "code",
   "execution_count": null,
   "metadata": {},
   "outputs": [],
   "source": []
  }
 ],
 "metadata": {
  "colab": {
   "provenance": []
  },
  "kernelspec": {
   "display_name": "Python 3 (ipykernel)",
   "language": "python",
   "name": "python3"
  },
  "language_info": {
   "codemirror_mode": {
    "name": "ipython",
    "version": 3
   },
   "file_extension": ".py",
   "mimetype": "text/x-python",
   "name": "python",
   "nbconvert_exporter": "python",
   "pygments_lexer": "ipython3",
   "version": "3.9.15"
  }
 },
 "nbformat": 4,
 "nbformat_minor": 4
}
