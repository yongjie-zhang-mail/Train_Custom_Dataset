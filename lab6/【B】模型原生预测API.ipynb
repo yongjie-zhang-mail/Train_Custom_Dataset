{
 "cells": [
  {
   "cell_type": "markdown",
   "id": "0e07acf1-6010-4815-9c52-e793d88a2ec9",
   "metadata": {},
   "source": [
    "# YOLOV8关键点检测预测-命令行-图像\n",
    "\n",
    "同济子豪兄 2023-4-15"
   ]
  },
  {
   "cell_type": "markdown",
   "id": "9e677bfc-dbfa-40d8-b0fd-afa2f27783b1",
   "metadata": {},
   "source": [
    "## 关键点检测预测-命令行"
   ]
  },
  {
   "cell_type": "code",
   "execution_count": 14,
   "id": "4a19c899-ac1b-4e05-9c52-f6b0f97db965",
   "metadata": {},
   "outputs": [
    {
     "name": "stdout",
     "output_type": "stream",
     "text": [
      "Ultralytics YOLOv8.0.98 🚀 Python-3.7.10 torch-1.10.0+cu113 CUDA:0 (NVIDIA GeForce GTX 1080 Ti, 11179MiB)\n",
      "YOLOv8l-pose summary (fused): 287 layers, 44457390 parameters, 0 gradients, 168.5 GFLOPs\n",
      "\n",
      "image 1/1 /home/featurize/work/两天搞定关键点检测毕业设计/6-YOLOV8关键点检测-预测源码解读/triangle_4.jpg: 448x640 3 sjb_rects, 28.2ms\n",
      "Speed: 3.9ms preprocess, 28.2ms inference, 2.4ms postprocess per image at shape (1, 3, 640, 640)\n",
      "Results saved to \u001B[1mruns/pose/predict\u001B[0m\n"
     ]
    }
   ],
   "source": [
    "!yolo pose predict model=Triangle_215_yolov8l_pretrain.pt source=triangle_4.jpg device=0\n"
   ]
  },
  {
   "cell_type": "markdown",
   "id": "f54154eb-5130-4942-9212-c2fad34c7b85",
   "metadata": {},
   "source": [
    "## 关键点检测预测-Python API"
   ]
  },
  {
   "cell_type": "code",
   "execution_count": 2,
   "id": "064bc54c-f2b8-45e3-b2cc-47d4dcea85d4",
   "metadata": {},
   "outputs": [],
   "source": [
    "from ultralytics import YOLO"
   ]
  },
  {
   "cell_type": "code",
   "execution_count": 16,
   "id": "decc5666-e864-42fb-813d-3f8e43abf7a4",
   "metadata": {},
   "outputs": [],
   "source": [
    "# 模型\n",
    "model = YOLO('Triangle_215_yolov8l_pretrain.pt')"
   ]
  },
  {
   "cell_type": "code",
   "execution_count": 17,
   "id": "d86069a1-11c9-4aca-b814-5f08c00e2a4d",
   "metadata": {},
   "outputs": [],
   "source": [
    "# 输入图像\n",
    "img_path = 'triangle_4.jpg'"
   ]
  },
  {
   "cell_type": "code",
   "execution_count": 18,
   "id": "4979d3c1-692b-49df-86e3-8e2a881d4b37",
   "metadata": {},
   "outputs": [
    {
     "name": "stderr",
     "output_type": "stream",
     "text": [
      "\n",
      "image 1/1 /home/featurize/work/两天搞定关键点检测毕业设计/6-YOLOV8关键点检测-预测源码解读/triangle_4.jpg: 448x640 3 sjb_rects, 28.1ms\n",
      "Speed: 3.3ms preprocess, 28.1ms inference, 1.9ms postprocess per image at shape (1, 3, 640, 640)\n"
     ]
    }
   ],
   "source": [
    "# 推理预测\n",
    "results = model(img_path)"
   ]
  },
  {
   "cell_type": "code",
   "execution_count": 20,
   "id": "21c95e37-a7a7-47de-8d2a-6f8d5d8a8500",
   "metadata": {},
   "outputs": [],
   "source": [
    "# results"
   ]
  },
  {
   "cell_type": "code",
   "execution_count": 3,
   "id": "cfcfe989-1e1c-474e-8209-4a22c6866ce0",
   "metadata": {},
   "outputs": [
    {
     "ename": "AttributeError",
     "evalue": "'str' object has no attribute 'callbacks'",
     "output_type": "error",
     "traceback": [
      "\u001B[1;31m---------------------------------------------------------------------------\u001B[0m",
      "\u001B[1;31mAttributeError\u001B[0m                            Traceback (most recent call last)",
      "Cell \u001B[1;32mIn[3], line 2\u001B[0m\n\u001B[0;32m      1\u001B[0m \u001B[38;5;66;03m# 模型\u001B[39;00m\n\u001B[1;32m----> 2\u001B[0m model2 \u001B[38;5;241m=\u001B[39m \u001B[43mYOLO\u001B[49m\u001B[38;5;241;43m.\u001B[39;49m\u001B[38;5;21;43m__init__\u001B[39;49m\u001B[43m(\u001B[49m\u001B[38;5;124;43m'\u001B[39;49m\u001B[38;5;124;43mTriangle_215_yolov8l_pretrain.pt\u001B[39;49m\u001B[38;5;124;43m'\u001B[39;49m\u001B[43m)\u001B[49m\n\u001B[0;32m      3\u001B[0m \u001B[38;5;66;03m# 输入图像\u001B[39;00m\n\u001B[0;32m      4\u001B[0m img_path2 \u001B[38;5;241m=\u001B[39m \u001B[38;5;124m'\u001B[39m\u001B[38;5;124mtriangle_4.jpg\u001B[39m\u001B[38;5;124m'\u001B[39m\n",
      "File \u001B[1;32m~\\.conda\\envs\\yongjie\\lib\\site-packages\\ultralytics\\engine\\model.py:68\u001B[0m, in \u001B[0;36mModel.__init__\u001B[1;34m(self, model, task)\u001B[0m\n\u001B[0;32m     60\u001B[0m \u001B[38;5;28;01mdef\u001B[39;00m \u001B[38;5;21m__init__\u001B[39m(\u001B[38;5;28mself\u001B[39m, model: Union[\u001B[38;5;28mstr\u001B[39m, Path] \u001B[38;5;241m=\u001B[39m \u001B[38;5;124m'\u001B[39m\u001B[38;5;124myolov8n.pt\u001B[39m\u001B[38;5;124m'\u001B[39m, task\u001B[38;5;241m=\u001B[39m\u001B[38;5;28;01mNone\u001B[39;00m) \u001B[38;5;241m-\u001B[39m\u001B[38;5;241m>\u001B[39m \u001B[38;5;28;01mNone\u001B[39;00m:\n\u001B[0;32m     61\u001B[0m     \u001B[38;5;124;03m\"\"\"\u001B[39;00m\n\u001B[0;32m     62\u001B[0m \u001B[38;5;124;03m    Initializes the YOLO model.\u001B[39;00m\n\u001B[0;32m     63\u001B[0m \n\u001B[1;32m   (...)\u001B[0m\n\u001B[0;32m     66\u001B[0m \u001B[38;5;124;03m        task (Any, optional): Task type for the YOLO model. Defaults to None.\u001B[39;00m\n\u001B[0;32m     67\u001B[0m \u001B[38;5;124;03m    \"\"\"\u001B[39;00m\n\u001B[1;32m---> 68\u001B[0m     \u001B[38;5;28;43mself\u001B[39;49m\u001B[38;5;241;43m.\u001B[39;49m\u001B[43mcallbacks\u001B[49m \u001B[38;5;241m=\u001B[39m callbacks\u001B[38;5;241m.\u001B[39mget_default_callbacks()\n\u001B[0;32m     69\u001B[0m     \u001B[38;5;28mself\u001B[39m\u001B[38;5;241m.\u001B[39mpredictor \u001B[38;5;241m=\u001B[39m \u001B[38;5;28;01mNone\u001B[39;00m  \u001B[38;5;66;03m# reuse predictor\u001B[39;00m\n\u001B[0;32m     70\u001B[0m     \u001B[38;5;28mself\u001B[39m\u001B[38;5;241m.\u001B[39mmodel \u001B[38;5;241m=\u001B[39m \u001B[38;5;28;01mNone\u001B[39;00m  \u001B[38;5;66;03m# model object\u001B[39;00m\n",
      "\u001B[1;31mAttributeError\u001B[0m: 'str' object has no attribute 'callbacks'"
     ]
    }
   ],
   "source": [
    "# 模型\n",
    "model2 = YOLO.__init__('Triangle_215_yolov8l_pretrain.pt')\n",
    "# 输入图像\n",
    "img_path2 = 'triangle_4.jpg'\n",
    "# 推理预测\n",
    "results2 = model2(img_path2)\n"
   ]
  }
 ],
 "metadata": {
  "kernelspec": {
   "display_name": "Python 3 (ipykernel)",
   "language": "python",
   "name": "python3"
  },
  "language_info": {
   "codemirror_mode": {
    "name": "ipython",
    "version": 3
   },
   "file_extension": ".py",
   "mimetype": "text/x-python",
   "name": "python",
   "nbconvert_exporter": "python",
   "pygments_lexer": "ipython3",
   "version": "3.9.15"
  }
 },
 "nbformat": 4,
 "nbformat_minor": 5
}
